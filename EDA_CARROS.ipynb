{
 "cells": [
  {
   "cell_type": "markdown",
   "id": "925154e2-cd93-4816-96f8-ffe1b449eb11",
   "metadata": {},
   "source": [
    "<h1 Style = \"color:#942222; text-align: center; font-weight: bold\">Universidad Castro Carazo</h1>\n",
    "<h5 Style = \"color:#bd3737; text-align: center;\">Analisis de Datos</h5>\n",
    "<center> <img src = \"carro.png\"> </center>\n",
    "</br>\n",
    "<p style = \"text-align: justify; font-family: Tahoma\">El análisis de datos es un proceso sistemático y metódico que implica la recopilación, organización, interpretación y visualización de conjuntos de datos con el objetivo de extraer información significativa y relevante. Este proceso utiliza herramientas, tecnologías y procesos para encontrar tendencias y resolver problemas mediante datos.</p>"
   ]
  },
  {
   "cell_type": "markdown",
   "id": "b70aed74-8b1d-4b2d-a367-2af40167291f",
   "metadata": {},
   "source": [
    "<table>\n",
    "  <tr>\n",
    "    <td> <img src = \"info.64.png\"> </td>\n",
    "    <td> Repositorio UCI del set de datos </td>\n",
    "    <td> <a href = \"https://archive.ics.uci.edu/dataset/10/automobile\">Enlace al sitio Web </a> </td>\n",
    "  </tr>\n",
    "  <tr>\n",
    "    <td> <img src = \"paleta.64.png\"> </td>\n",
    "    <td>Paleta de colores</td>\n",
    "    <td> <a href = \"https://paletadecolores.com.mx/paleta/942222/bd3737/d4cdad/98c3a1/25857d/\">Enlace al sitio Web </a> </td>\n",
    "  </tr>\n",
    "</table>"
   ]
  },
  {
   "cell_type": "markdown",
   "id": "a148e917-6eb8-4124-8c64-ad27d56103b0",
   "metadata": {},
   "source": [
    "<h2 Style = \"color:  #a8c4a2 \">1. Carga y estandarizacion de los set de datos</h2>\n",
    " \n",
    "<ul>\n",
    "<li style=\"font-family: Tahoma\">Instalar e importar las librerias necesarias para trabajar</li>\n",
    "<li style=\"font-family: Tahoma\">Importar los archivos csv (Set de Datos)</li>\n",
    "<li style=\"font-family: Tahoma\">Revison de los set de datos (encabezados)</li>\n",
    "<li style=\"font-family: Tahoma\">Generar un unico set de datos</li>\n",
    "</ul>\n",
    " \n",
    "<h4 style=\"color:#d4cdad; font-family: Tahoma\"> 1.1) Instalar e importar las librerias necesarias para trabajar </h4>"
   ]
  },
  {
   "cell_type": "code",
   "execution_count": null,
   "id": "582f7953-283c-4484-a5b9-5b95cb8986c8",
   "metadata": {},
   "outputs": [],
   "source": []
  }
 ],
 "metadata": {
  "kernelspec": {
   "display_name": "Python 3 (ipykernel)",
   "language": "python",
   "name": "python3"
  },
  "language_info": {
   "codemirror_mode": {
    "name": "ipython",
    "version": 3
   },
   "file_extension": ".py",
   "mimetype": "text/x-python",
   "name": "python",
   "nbconvert_exporter": "python",
   "pygments_lexer": "ipython3",
   "version": "3.12.7"
  }
 },
 "nbformat": 4,
 "nbformat_minor": 5
}
